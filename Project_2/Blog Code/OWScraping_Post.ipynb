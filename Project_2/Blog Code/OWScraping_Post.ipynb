{
 "cells": [
  {
   "cell_type": "code",
   "execution_count": null,
   "metadata": {},
   "outputs": [],
   "source": [
    "import json\n",
    "import requests\n",
    "from bs4 import BeautifulSoup\n",
    "import time\n",
    "import pandas as pd\n",
    "from selenium import webdriver\n",
    "\n",
    "options = webdriver.ChromeOptions()\n",
    "options.add_argument('--ignore-certificate-errors')\n",
    "options.add_argument('--incognito')\n",
    "options.add_argument('--headless')\n",
    "driver = webdriver.Chrome(\"chromedriver\", chrome_options=options)\n",
    "\n",
    "##IMPORT RANDOM USERNAMES\n",
    "usernames = pd.read_csv('usernames_scraped_fixed.csv')\n",
    "\n",
    "##Create a List for the correct BattleTags\n",
    "username_scraped = []\n",
    "\n",
    "\n",
    "def str2bool(v):\n",
    "    return v.lower() in (\"True\", \"true\")\n",
    "\n",
    "##LOOP THROUGH ALL RANDOM USERNAMES\n",
    "for name in df['users']:\n",
    "    ##USE SELENIUM TO SEARCH > WAIT 2 SECONDS TO LET THE PAGE LOAD\n",
    "    ##SET SOUP TO FIND PLAYER-BADGE WHICH IS A STRING WITH THE USERNAME\n",
    "    driver.get(f\"https://playoverwatch.com/en-us/search?q={name}\")\n",
    "    time.sleep(2)\n",
    "    page_source = driver.page_source\n",
    "    \n",
    "    soup = BeautifulSoup(page_source)\n",
    "    players = soup.find_all('a', class_=\"player-badge\")\n",
    "    \n",
    "    ##LOOP THROUGH ALL THOSE USERNAMES AND CHECK IF THEIR LOCKED PROFILES\n",
    "    ##IF NOT, THEN ADD THE USERNAME TO THE LIST AND CHANGE THE # WITH A - \n",
    "    ##SO THE API CAN WORK\n",
    "    for element in players:\n",
    "        locked = str2bool(element.find(\"div\", {\"data-visibility-private\": True})['data-visibility-private'])\n",
    "        if(locked == False):\n",
    "            username_scraped.append(element.find(class_='player-badge-name').text.replace('#', '-'))\n",
    "            \n",
    "##PRINT OUT HOW MANY USERNAMES WE GOT FROM THAT LIST OF RANDOM WORDS\n",
    "print(len(username_scraped))"
   ]
  }
 ],
 "metadata": {
  "kernelspec": {
   "display_name": "Python 3",
   "language": "python",
   "name": "python3"
  },
  "language_info": {
   "codemirror_mode": {
    "name": "ipython",
    "version": 3
   },
   "file_extension": ".py",
   "mimetype": "text/x-python",
   "name": "python",
   "nbconvert_exporter": "python",
   "pygments_lexer": "ipython3",
   "version": "3.7.3"
  }
 },
 "nbformat": 4,
 "nbformat_minor": 4
}
